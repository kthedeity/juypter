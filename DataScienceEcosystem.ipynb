{
 "cells": [
  {
   "cell_type": "markdown",
   "id": "d1acccb9-160d-40ec-8c42-e85fb68b3574",
   "metadata": {
    "editable": true,
    "slideshow": {
     "slide_type": ""
    },
    "tags": []
   },
   "source": [
    "# Data Science Tools and Ecosystem "
   ]
  },
  {
   "cell_type": "markdown",
   "id": "5f9a5806-b828-417f-a7be-3fb9ebe8abb6",
   "metadata": {},
   "source": [
    "In this notebook, Data Science Tools and Ecosystem are summarized."
   ]
  },
  {
   "cell_type": "markdown",
   "id": "4314d52d-1200-4655-bb73-affbf030b02e",
   "metadata": {},
   "source": [
    "**Objectives**\n",
    "- most popular languages\n",
    "- most used libaries\n",
    "- arithmics expression"
   ]
  },
  {
   "cell_type": "markdown",
   "id": "e829b2df-33f1-444d-a5d2-ec1667415531",
   "metadata": {},
   "source": [
    "Some of the popular languages that Data Scientists use are:\n",
    "1. Python\n",
    "2. R\n",
    "3. SQL\n",
    "4. C++\n",
    "5. Scala\n",
    "6. Java\n"
   ]
  },
  {
   "cell_type": "markdown",
   "id": "a1e64e54-cdd8-4329-b620-4a52320a8d5b",
   "metadata": {},
   "source": [
    "Some of the commonly used libraries used by Data Scientists include:\n",
    "1. Pandas\n",
    "2. Numpy\n",
    "3. SciPy\n",
    "4. Matplotlib"
   ]
  },
  {
   "cell_type": "markdown",
   "id": "1e4f2e0b-abb5-440e-8a94-a03a7aae8ccd",
   "metadata": {
    "editable": true,
    "slideshow": {
     "slide_type": ""
    },
    "tags": []
   },
   "source": [
    "|Data Science Tools|\n",
    "|:------------------:|\n",
    "|spyder|\n",
    "|Jupyter|\n",
    "|R studio|\n",
    "|Apache Spark|"
   ]
  },
  {
   "cell_type": "markdown",
   "id": "1e288674-5de9-4b12-ad13-7f6a3a57ef6c",
   "metadata": {},
   "source": [
    "### Below are a few examples of evaluating arithmetic expressions in Python:"
   ]
  },
  {
   "cell_type": "code",
   "execution_count": 1,
   "id": "ea84bffd-f471-49aa-8a10-8dfd6866320c",
   "metadata": {},
   "outputs": [
    {
     "data": {
      "text/plain": [
       "17.0"
      ]
     },
     "execution_count": 1,
     "metadata": {},
     "output_type": "execute_result"
    }
   ],
   "source": [
    "#This a simple arithmetic expression to mutiply then add integers\n",
    "(3*4)+5."
   ]
  },
  {
   "cell_type": "code",
   "execution_count": 3,
   "id": "9f0cf4ad-6658-49fb-9384-ff6a2babc24e",
   "metadata": {},
   "outputs": [
    {
     "data": {
      "text/plain": [
       "3.3333333333333335"
      ]
     },
     "execution_count": 3,
     "metadata": {},
     "output_type": "execute_result"
    }
   ],
   "source": [
    "#This will convert 200 minutes to hours by diving by 60\n",
    "200/60"
   ]
  },
  {
   "cell_type": "markdown",
   "id": "6775cfaa-14c1-41f6-9649-81dfe9375301",
   "metadata": {},
   "source": [
    "## Author\n",
    "Kiano Kelly"
   ]
  },
  {
   "cell_type": "code",
   "execution_count": null,
   "id": "e38bc321-e70c-4ee9-a1a1-35278c250ffc",
   "metadata": {},
   "outputs": [],
   "source": []
  }
 ],
 "metadata": {
  "kernelspec": {
   "display_name": "Python 3 (ipykernel)",
   "language": "python",
   "name": "python3"
  },
  "language_info": {
   "codemirror_mode": {
    "name": "ipython",
    "version": 3
   },
   "file_extension": ".py",
   "mimetype": "text/x-python",
   "name": "python",
   "nbconvert_exporter": "python",
   "pygments_lexer": "ipython3",
   "version": "3.8.16"
  }
 },
 "nbformat": 4,
 "nbformat_minor": 5
}
